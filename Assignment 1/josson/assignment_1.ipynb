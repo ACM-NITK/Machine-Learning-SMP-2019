{
  "nbformat": 4,
  "nbformat_minor": 0,
  "metadata": {
    "colab": {
      "name": "assignment 1.ipynb",
      "version": "0.3.2",
      "provenance": [],
      "collapsed_sections": []
    },
    "kernelspec": {
      "name": "python3",
      "display_name": "Python 3"
    }
  },
  "cells": [
    {
      "cell_type": "code",
      "metadata": {
        "id": "CpxrM7ouk3pl",
        "colab_type": "code",
        "colab": {}
      },
      "source": [
        "import pandas as pd\n",
        "url = 'https://raw.githubusercontent.com/ACM-NITK/Machine-Learning-SMP-2019/master/Assignment%201/PL18-19.csv'\n",
        "df = pd.read_csv(url)\n",
        "df.columns = ['Date', 'Home Team', 'Away Team', 'Home Team Goals', 'Away Team Goals', 'Result', 'Half Time Home Team Goals', 'Half Time Away Team Goals',\n",
        "       'Half Time Result', 'Referee', 'Home Team Shots', 'Away Team Shots', 'Home Team Shots On Target', 'Away Team Shots On Target', 'Home Team Fouls', 'Away Team Fouls', 'Home Team Corners', 'Away Team Corners',\n",
        "       'Home Team Yellow Cards', 'Away Team Yellow Cards', 'Home Team Red Cards', 'Away Team Red Cards']"
      ],
      "execution_count": 0,
      "outputs": []
    },
    {
      "cell_type": "code",
      "metadata": {
        "id": "ezYV65Glo64H",
        "colab_type": "code",
        "outputId": "238247cc-e11f-4a7d-a7d4-8c1e8c85591e",
        "colab": {
          "base_uri": "https://localhost:8080/",
          "height": 54
        }
      },
      "source": [
        "a=df[\"Home Team\"].unique()\n",
        "print(sorted(a))"
      ],
      "execution_count": 2,
      "outputs": [
        {
          "output_type": "stream",
          "text": [
            "['Arsenal', 'Bournemouth', 'Brighton', 'Burnley', 'Cardiff', 'Chelsea', 'Crystal Palace', 'Everton', 'Fulham', 'Huddersfield', 'Leicester', 'Liverpool', 'Man City', 'Man United', 'Newcastle', 'Southampton', 'Tottenham', 'Watford', 'West Ham', 'Wolves']\n"
          ],
          "name": "stdout"
        }
      ]
    },
    {
      "cell_type": "code",
      "metadata": {
        "id": "41sbnVjzsFSo",
        "colab_type": "code",
        "outputId": "9369321c-8abe-455e-9952-f62129f091d3",
        "colab": {
          "base_uri": "https://localhost:8080/",
          "height": 34
        }
      },
      "source": [
        "df[\"Total Shots\"]=df[\"Home Team Shots\"]+df[\"Away Team Shots\"]\n",
        "df[\"Total Shots\"].max()"
      ],
      "execution_count": 3,
      "outputs": [
        {
          "output_type": "execute_result",
          "data": {
            "text/plain": [
              "42"
            ]
          },
          "metadata": {
            "tags": []
          },
          "execution_count": 3
        }
      ]
    },
    {
      "cell_type": "code",
      "metadata": {
        "id": "Fwa4l9aqtqfs",
        "colab_type": "code",
        "outputId": "ff9273a9-b29c-48fd-fcc1-2d60bf7a886d",
        "colab": {
          "base_uri": "https://localhost:8080/",
          "height": 34
        }
      },
      "source": [
        "df[\"Total Shots On Target\"]=df[\"Home Team Shots On Target\"]+df[\"Away Team Shots On Target\"]\n",
        "ratio = df[\"Total Shots On Target\"].mean()/df[\"Total Shots\"].mean()\n",
        "print(ratio)"
      ],
      "execution_count": 4,
      "outputs": [
        {
          "output_type": "stream",
          "text": [
            "0.3437760199833472\n"
          ],
          "name": "stdout"
        }
      ]
    },
    {
      "cell_type": "code",
      "metadata": {
        "id": "42YVGkRBu2tQ",
        "colab_type": "code",
        "outputId": "5679c3e2-4fc5-44cd-b820-c8bee6ae470b",
        "colab": {
          "base_uri": "https://localhost:8080/",
          "height": 639
        }
      },
      "source": [
        "df[\"Total Cards\"] = df[\"Home Team Yellow Cards\"] + df[\"Away Team Yellow Cards\"] + df[\"Home Team Red Cards\"] + df[\"Away Team Red Cards\"]\n",
        "df.iloc[:,[9,24]].groupby('Referee').sum()"
      ],
      "execution_count": 5,
      "outputs": [
        {
          "output_type": "execute_result",
          "data": {
            "text/html": [
              "<div>\n",
              "<style scoped>\n",
              "    .dataframe tbody tr th:only-of-type {\n",
              "        vertical-align: middle;\n",
              "    }\n",
              "\n",
              "    .dataframe tbody tr th {\n",
              "        vertical-align: top;\n",
              "    }\n",
              "\n",
              "    .dataframe thead th {\n",
              "        text-align: right;\n",
              "    }\n",
              "</style>\n",
              "<table border=\"1\" class=\"dataframe\">\n",
              "  <thead>\n",
              "    <tr style=\"text-align: right;\">\n",
              "      <th></th>\n",
              "      <th>Total Cards</th>\n",
              "    </tr>\n",
              "    <tr>\n",
              "      <th>Referee</th>\n",
              "      <th></th>\n",
              "    </tr>\n",
              "  </thead>\n",
              "  <tbody>\n",
              "    <tr>\n",
              "      <th>A Madley</th>\n",
              "      <td>2</td>\n",
              "    </tr>\n",
              "    <tr>\n",
              "      <th>A Marriner</th>\n",
              "      <td>76</td>\n",
              "    </tr>\n",
              "    <tr>\n",
              "      <th>A Taylor</th>\n",
              "      <td>103</td>\n",
              "    </tr>\n",
              "    <tr>\n",
              "      <th>C Kavanagh</th>\n",
              "      <td>76</td>\n",
              "    </tr>\n",
              "    <tr>\n",
              "      <th>C Pawson</th>\n",
              "      <td>99</td>\n",
              "    </tr>\n",
              "    <tr>\n",
              "      <th>D Coote</th>\n",
              "      <td>35</td>\n",
              "    </tr>\n",
              "    <tr>\n",
              "      <th>G Scott</th>\n",
              "      <td>39</td>\n",
              "    </tr>\n",
              "    <tr>\n",
              "      <th>J Linington</th>\n",
              "      <td>4</td>\n",
              "    </tr>\n",
              "    <tr>\n",
              "      <th>J Moss</th>\n",
              "      <td>98</td>\n",
              "    </tr>\n",
              "    <tr>\n",
              "      <th>K Friend</th>\n",
              "      <td>92</td>\n",
              "    </tr>\n",
              "    <tr>\n",
              "      <th>L Mason</th>\n",
              "      <td>64</td>\n",
              "    </tr>\n",
              "    <tr>\n",
              "      <th>L Probert</th>\n",
              "      <td>50</td>\n",
              "    </tr>\n",
              "    <tr>\n",
              "      <th>M Atkinson</th>\n",
              "      <td>92</td>\n",
              "    </tr>\n",
              "    <tr>\n",
              "      <th>M Dean</th>\n",
              "      <td>137</td>\n",
              "    </tr>\n",
              "    <tr>\n",
              "      <th>M Oliver</th>\n",
              "      <td>90</td>\n",
              "    </tr>\n",
              "    <tr>\n",
              "      <th>P Tierney</th>\n",
              "      <td>83</td>\n",
              "    </tr>\n",
              "    <tr>\n",
              "      <th>R East</th>\n",
              "      <td>44</td>\n",
              "    </tr>\n",
              "    <tr>\n",
              "      <th>S Attwell</th>\n",
              "      <td>64</td>\n",
              "    </tr>\n",
              "    <tr>\n",
              "      <th>S Hooper</th>\n",
              "      <td>20</td>\n",
              "    </tr>\n",
              "  </tbody>\n",
              "</table>\n",
              "</div>"
            ],
            "text/plain": [
              "             Total Cards\n",
              "Referee                 \n",
              "A Madley               2\n",
              "A Marriner            76\n",
              "A Taylor             103\n",
              "C Kavanagh            76\n",
              "C Pawson              99\n",
              "D Coote               35\n",
              "G Scott               39\n",
              "J Linington            4\n",
              "J Moss                98\n",
              "K Friend              92\n",
              "L Mason               64\n",
              "L Probert             50\n",
              "M Atkinson            92\n",
              "M Dean               137\n",
              "M Oliver              90\n",
              "P Tierney             83\n",
              "R East                44\n",
              "S Attwell             64\n",
              "S Hooper              20"
            ]
          },
          "metadata": {
            "tags": []
          },
          "execution_count": 5
        }
      ]
    },
    {
      "cell_type": "code",
      "metadata": {
        "id": "4TESafKT6hDM",
        "colab_type": "code",
        "outputId": "88837761-9717-4c4b-d182-1d86a5de457f",
        "colab": {
          "base_uri": "https://localhost:8080/",
          "height": 34
        }
      },
      "source": [
        "df[\"Total Home Cards\"] = df[\"Home Team Yellow Cards\"] + df[\"Home Team Red Cards\"]\n",
        "df[\"Total Away Cards\"] = df[\"Away Team Yellow Cards\"] + df[\"Away Team Red Cards\"]\n",
        "b = df.iloc[:,[1,25]]\n",
        "c = df.iloc[:,[2,26]]\n",
        "b.columns = [\"team\" , \"Total Home Cards\"]\n",
        "c.columns = [\"team\" , \"Total Away Cards\"]\n",
        "d = b.groupby(\"team\",as_index=False).sum()\n",
        "e = c.groupby(\"team\",as_index=False).sum()\n",
        "f = pd.merge(d,e,on=\"team\")\n",
        "f[\"Total Cards\"] = f[\"Total Home Cards\"] + f[\"Total Away Cards\"]\n",
        "f.sort_values(by='Total Cards', ascending=False).iloc[0,0]\n",
        "\n",
        "\n"
      ],
      "execution_count": 6,
      "outputs": [
        {
          "output_type": "execute_result",
          "data": {
            "text/plain": [
              "'Watford'"
            ]
          },
          "metadata": {
            "tags": []
          },
          "execution_count": 6
        }
      ]
    },
    {
      "cell_type": "code",
      "metadata": {
        "id": "ENCjFbCVVpJq",
        "colab_type": "code",
        "outputId": "f443bde0-af5b-4170-8788-8813e8cfabca",
        "colab": {
          "base_uri": "https://localhost:8080/",
          "height": 34
        }
      },
      "source": [
        "x = {'H':1,'A':0,'D':0}\n",
        "df[\"Home Team Win\"] = df[\"Result\"].map(x)\n",
        "a = df.groupby(\"Referee\",as_index=False).sum()\n",
        "b = a.iloc[:,[0,22]].sort_values(by='Home Team Win',ascending=False)\n",
        "b.iloc[0,0]"
      ],
      "execution_count": 7,
      "outputs": [
        {
          "output_type": "execute_result",
          "data": {
            "text/plain": [
              "'A Taylor'"
            ]
          },
          "metadata": {
            "tags": []
          },
          "execution_count": 7
        }
      ]
    },
    {
      "cell_type": "code",
      "metadata": {
        "id": "tJp2LBuAXt9p",
        "colab_type": "code",
        "outputId": "5be94108-d9a8-4857-a300-5aea06a300bc",
        "colab": {
          "base_uri": "https://localhost:8080/",
          "height": 34
        }
      },
      "source": [
        "df[\"Win at Both\"]=((df[\"Result\"]==df[\"Half Time Result\"]) & (df[\"Result\"]!='D')).astype('bool')\n",
        "a = df.groupby(\"Win at Both\",as_index=False).count()\n",
        "b = a.iloc[:,[0,1]].sort_values(by=\"Win at Both\",ascending=False)\n",
        "p_true = b.iloc[0,1]\n",
        "p_false = b.iloc[1,1]\n",
        "p_total = p_true + p_false\n",
        "print(p_true/p_total*100)"
      ],
      "execution_count": 11,
      "outputs": [
        {
          "output_type": "stream",
          "text": [
            "48.94736842105264\n"
          ],
          "name": "stdout"
        }
      ]
    },
    {
      "cell_type": "code",
      "metadata": {
        "id": "jQenZZeWqBue",
        "colab_type": "code",
        "outputId": "11f696ce-5a42-4b18-bbf5-def8a34d29be",
        "colab": {
          "base_uri": "https://localhost:8080/",
          "height": 128
        }
      },
      "source": [
        "QUESTION 1\n",
        "x = {'H':3,'A':0,'D':1}\n",
        "df[\"Home Team Points\"] =df[\"Result\"].map(x)\n",
        "l = {'H':1,'D':0,'A':0}\n",
        "df[\"Home Team Wins\"] = df[\"Result\"].map(l)\n",
        "l = {'H':0,'D':1,'A':0}\n",
        "df[\"Draws\"] = df[\"Result\"].map(l)\n",
        "l = {'H':0,'D':0,'A':1}\n",
        "df[\"Away Team Wins\"] = df[\"Result\"].map(l)\n",
        "y = {'H':0,'A':3,'D':1}\n",
        "df[\"Away Team Points\"] =df[\"Result\"].map(y)\n",
        "x = df.groupby(\"Home Team\",as_index=False).sum()\n",
        "p = x.loc[:,[\"Home Team\",\"Home Team Points\",\"Home Team Wins\",\"Draws\",\"Away Team Wins\",\"Home Team Goals\",\"Away Team Goals\"]]\n",
        "y =df.groupby(\"Away Team\",as_index=False).sum()\n",
        "q = y.loc[:,[\"Away Team\",\"Away Team Points\",\"Away Team Wins\",\"Draws\",\"Home Team Wins\",\"Away Team Goals\",\"Home Team Goals\"]]\n",
        "p.columns = [\"Team\",\"Team Points\",\"Team Wins\",\"Draws\",\"Team Loss\",\"Goals For\",\"Goals Against\"]\n",
        "q.columns = [\"Team\",\"Team Points\",\"Team Wins\",\"Draws\",\"Team Loss\",\"Goals For\",\"Goals Against\"]\n",
        "f = pd.merge(q,p,on=\"Team\")\n",
        "f[\"Points\"] = f[\"Team Points_x\"]+f[\"Team Points_y\"]\n",
        "f[\"Won\"] = f[\"Team Wins_x\"]+f[\"Team Wins_y\"]\n",
        "f[\"Drawn\"] = f[\"Draws_x\"]+f[\"Draws_y\"]\n",
        "f[\"Lost\"] = f[\"Team Loss_x\"]+f[\"Team Loss_y\"]\n",
        "f[\"Goals For\"] = f[\"Goals For_x\"]+f[\"Goals For_y\"]\n",
        "f[\"Goals Against\"] = f[\"Goals Against_x\"]+f[\"Goals Against_y\"]\n",
        "f[\"Goal Difference\"]=f[\"Goals For\"]-f[\"Goals Against\"]\n",
        "f[\"played\"]=38\n",
        "z = f.loc[:,[\"Team\",\"played\",\"Won\",\"Drawn\",\"Lost\",\"Goals For\",\"Goals Against\",\"Goal Difference\",\"Points\"]]\n",
        "z.sort_values(by=\"Points\",ascending=False)"
      ],
      "execution_count": 9,
      "outputs": [
        {
          "output_type": "error",
          "ename": "SyntaxError",
          "evalue": "ignored",
          "traceback": [
            "\u001b[0;36m  File \u001b[0;32m\"<ipython-input-9-9ca86d4e4780>\"\u001b[0;36m, line \u001b[0;32m1\u001b[0m\n\u001b[0;31m    QUESTION 1\u001b[0m\n\u001b[0m             ^\u001b[0m\n\u001b[0;31mSyntaxError\u001b[0m\u001b[0;31m:\u001b[0m invalid syntax\n"
          ]
        }
      ]
    },
    {
      "cell_type": "code",
      "metadata": {
        "id": "9U6J86YF6yAG",
        "colab_type": "code",
        "colab": {}
      },
      "source": [
        "# QUESTION 2\n",
        "#EXPLORING WITH THIS DATASET I LEARNT MANY NEW FUNCTIONS LIKE GROUPBY().SUM() and UNDERSTOOD THE USE OF MANY FUNCTIONS PROPERLY LIKE LOC,ILOC,SORT_VALUES etc."
      ],
      "execution_count": 0,
      "outputs": []
    }
  ]
}